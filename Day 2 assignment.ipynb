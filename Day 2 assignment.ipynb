{
 "cells": [
  {
   "cell_type": "code",
   "execution_count": 3,
   "metadata": {},
   "outputs": [],
   "source": [
    "import numpy as np\n",
    "import matplotlib.pyplot as plt\n",
    "import pandas as pd\n",
    "import seaborn as sns\n",
    "from numpy.random import randn,randint,uniform,sample"
   ]
  },
  {
   "cell_type": "code",
   "execution_count": 2,
   "metadata": {},
   "outputs": [
    {
     "data": {
      "text/html": [
       "<div>\n",
       "<style scoped>\n",
       "    .dataframe tbody tr th:only-of-type {\n",
       "        vertical-align: middle;\n",
       "    }\n",
       "\n",
       "    .dataframe tbody tr th {\n",
       "        vertical-align: top;\n",
       "    }\n",
       "\n",
       "    .dataframe thead th {\n",
       "        text-align: right;\n",
       "    }\n",
       "</style>\n",
       "<table border=\"1\" class=\"dataframe\">\n",
       "  <thead>\n",
       "    <tr style=\"text-align: right;\">\n",
       "      <th></th>\n",
       "      <th>a</th>\n",
       "      <th>b</th>\n",
       "      <th>c</th>\n",
       "      <th>d</th>\n",
       "    </tr>\n",
       "  </thead>\n",
       "  <tbody>\n",
       "    <tr>\n",
       "      <th>0</th>\n",
       "      <td>1.616953</td>\n",
       "      <td>-0.056486</td>\n",
       "      <td>-0.804998</td>\n",
       "      <td>1.312900</td>\n",
       "    </tr>\n",
       "    <tr>\n",
       "      <th>1</th>\n",
       "      <td>1.781786</td>\n",
       "      <td>0.487539</td>\n",
       "      <td>-1.999141</td>\n",
       "      <td>-0.049053</td>\n",
       "    </tr>\n",
       "    <tr>\n",
       "      <th>2</th>\n",
       "      <td>-0.704796</td>\n",
       "      <td>0.378098</td>\n",
       "      <td>-2.079503</td>\n",
       "      <td>-2.459642</td>\n",
       "    </tr>\n",
       "    <tr>\n",
       "      <th>3</th>\n",
       "      <td>-1.122674</td>\n",
       "      <td>1.580846</td>\n",
       "      <td>0.231998</td>\n",
       "      <td>0.692934</td>\n",
       "    </tr>\n",
       "    <tr>\n",
       "      <th>4</th>\n",
       "      <td>0.528533</td>\n",
       "      <td>-1.409746</td>\n",
       "      <td>0.554224</td>\n",
       "      <td>-1.772096</td>\n",
       "    </tr>\n",
       "    <tr>\n",
       "      <th>5</th>\n",
       "      <td>1.168279</td>\n",
       "      <td>-0.939538</td>\n",
       "      <td>-2.271595</td>\n",
       "      <td>-0.531718</td>\n",
       "    </tr>\n",
       "    <tr>\n",
       "      <th>6</th>\n",
       "      <td>1.046654</td>\n",
       "      <td>-0.880330</td>\n",
       "      <td>0.884982</td>\n",
       "      <td>1.452750</td>\n",
       "    </tr>\n",
       "    <tr>\n",
       "      <th>7</th>\n",
       "      <td>-0.369002</td>\n",
       "      <td>-0.567573</td>\n",
       "      <td>0.189442</td>\n",
       "      <td>0.915056</td>\n",
       "    </tr>\n",
       "    <tr>\n",
       "      <th>8</th>\n",
       "      <td>0.802525</td>\n",
       "      <td>-1.569320</td>\n",
       "      <td>0.134843</td>\n",
       "      <td>2.104720</td>\n",
       "    </tr>\n",
       "    <tr>\n",
       "      <th>9</th>\n",
       "      <td>0.914197</td>\n",
       "      <td>0.183227</td>\n",
       "      <td>-0.380118</td>\n",
       "      <td>-0.785367</td>\n",
       "    </tr>\n",
       "  </tbody>\n",
       "</table>\n",
       "</div>"
      ],
      "text/plain": [
       "          a         b         c         d\n",
       "0  1.616953 -0.056486 -0.804998  1.312900\n",
       "1  1.781786  0.487539 -1.999141 -0.049053\n",
       "2 -0.704796  0.378098 -2.079503 -2.459642\n",
       "3 -1.122674  1.580846  0.231998  0.692934\n",
       "4  0.528533 -1.409746  0.554224 -1.772096\n",
       "5  1.168279 -0.939538 -2.271595 -0.531718\n",
       "6  1.046654 -0.880330  0.884982  1.452750\n",
       "7 -0.369002 -0.567573  0.189442  0.915056\n",
       "8  0.802525 -1.569320  0.134843  2.104720\n",
       "9  0.914197  0.183227 -0.380118 -0.785367"
      ]
     },
     "execution_count": 2,
     "metadata": {},
     "output_type": "execute_result"
    }
   ],
   "source": [
    "df = pd.DataFrame(randn(10,4),columns=['a','b','c','d'])\n",
    "df"
   ]
  },
  {
   "cell_type": "code",
   "execution_count": 4,
   "metadata": {},
   "outputs": [
    {
     "data": {
      "image/png": "[encoded data removed]",
      "text/plain": [
       "<Figure size 864x720 with 1 Axes>"
      ]
     },
     "metadata": {
      "needs_background": "light"
     },
     "output_type": "display_data"
    }
   ],
   "source": [
    "df.plot(kind='bar',width=(3),figsize=(12,10))\n",
    "plt.title('Bar Graph')\n",
    "plt.show()"
   ]
  },
  {
   "cell_type": "code",
   "execution_count": null,
   "metadata": {},
   "outputs": [],
   "source": []
  }
 ],
 "metadata": {
  "kernelspec": {
   "display_name": "Python 3",
   "language": "python",
   "name": "python3"
  },
  "language_info": {
   "codemirror_mode": {
    "name": "ipython",
    "version": 3
   },
   "file_extension": ".py",
   "mimetype": "text/x-python",
   "name": "python",
   "nbconvert_exporter": "python",
   "pygments_lexer": "ipython3",
   "version": "3.8.5"
  }
 },
 "nbformat": 4,
 "nbformat_minor": 4
}
